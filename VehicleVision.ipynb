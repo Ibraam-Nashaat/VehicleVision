{
  "cells": [
    {
      "cell_type": "markdown",
      "metadata": {
        "id": "mjSCKg5otcay"
      },
      "source": [
        "# Deploy and monitor a machine learning workflow for Image Classification"
      ]
    },
    {
      "cell_type": "markdown",
      "metadata": {
        "id": "6pP1mx0dtca1"
      },
      "source": [
        "## Setting up this notebook\n",
        "\n",
        "Notes about the instance size and kernel setup: this notebook has been tested on\n",
        "\n",
        "1. The `Python 3 (Data Science)` kernel\n",
        "2. The `ml.t3.medium` Sagemaker notebook instance\n",
        "\n",
        "## Data Staging\n",
        "\n",
        "We'll use a sample dataset called CIFAR. In order to start working with CIFAR we'll need to:\n",
        "\n",
        "1. Extract the data from a hosting service\n",
        "2. Transform it into a usable shape and format\n",
        "3. Load it into a production system\n",
        "\n",
        "\n",
        "### 1. Extract the data from the hosting service\n",
        "\n",
        "In the cell below, define a function `extract_cifar_data` that extracts python version of the CIFAR-100 dataset. The CIFAR dataaset is open source and generously hosted by the University of Toronto at: https://www.cs.toronto.edu/~kriz/cifar-100-python.tar.gz"
      ]
    },
    {
      "cell_type": "code",
      "execution_count": null,
      "metadata": {
        "id": "yWXw5fGatca2"
      },
      "outputs": [],
      "source": [
        "import requests\n",
        "\n",
        "def extract_cifar_data(url, filename=\"cifar.tar.gz\"):\n",
        "    \"\"\"A function for extracting the CIFAR-100 dataset and storing it as a gzipped file\n",
        "\n",
        "    Arguments:\n",
        "    url      -- the URL where the dataset is hosted\n",
        "    filename -- the full path where the dataset will be written\n",
        "\n",
        "    \"\"\"\n",
        "\n",
        "    r = requests.get(url)\n",
        "    with open(filename, \"wb\") as file_context:\n",
        "        file_context.write(r.content)\n",
        "    return"
      ]
    },
    {
      "cell_type": "markdown",
      "metadata": {
        "id": "XcJuPBpYtca3"
      },
      "source": [
        "Let's test it out! Run the following cell and check whether a new file `cifar.tar.gz` is created in the file explorer."
      ]
    },
    {
      "cell_type": "code",
      "execution_count": null,
      "metadata": {
        "id": "be_4f4NHtca3"
      },
      "outputs": [],
      "source": [
        "extract_cifar_data(\"https://www.cs.toronto.edu/~kriz/cifar-100-python.tar.gz\")"
      ]
    },
    {
      "cell_type": "markdown",
      "metadata": {
        "id": "VPT16-rwtca4"
      },
      "source": [
        "### 2. Transform the data into a usable shape and format\n",
        "\n",
        "Clearly, distributing the data as a gzipped archive makes sense for the hosting service! It saves on bandwidth, storage, and it's a widely-used archive format. In fact, it's so widely used that the Python community ships a utility for working with them, `tarfile`, as part of its Standard Library. Execute the following cell to decompress your extracted dataset:"
      ]
    },
    {
      "cell_type": "code",
      "execution_count": null,
      "metadata": {
        "id": "_TzimbF8tca4"
      },
      "outputs": [],
      "source": [
        "import tarfile\n",
        "\n",
        "with tarfile.open(\"cifar.tar.gz\", \"r:gz\") as tar:\n",
        "    tar.extractall()"
      ]
    },
    {
      "cell_type": "markdown",
      "metadata": {
        "id": "1uK5_lnitca5"
      },
      "source": [
        "A new folder `cifar-100-python` should be created, containing `meta`, `test`, and `train` files. These files are `pickles` and the [CIFAR homepage](https://www.cs.toronto.edu/~kriz/cifar.html) provides a simple script that can be used to load them. We've adapted the script below for you to run:"
      ]
    },
    {
      "cell_type": "code",
      "execution_count": null,
      "metadata": {
        "id": "jhq8swp6tca5"
      },
      "outputs": [],
      "source": [
        "import pickle\n",
        "\n",
        "with open(\"./cifar-100-python/meta\", \"rb\") as f:\n",
        "    dataset_meta = pickle.load(f, encoding='bytes')\n",
        "\n",
        "with open(\"./cifar-100-python/test\", \"rb\") as f:\n",
        "    dataset_test = pickle.load(f, encoding='bytes')\n",
        "\n",
        "with open(\"./cifar-100-python/train\", \"rb\") as f:\n",
        "    dataset_train = pickle.load(f, encoding='bytes')"
      ]
    },
    {
      "cell_type": "code",
      "execution_count": null,
      "metadata": {
        "id": "ENV-eI3itca5"
      },
      "outputs": [],
      "source": [
        "dataset_train.keys()"
      ]
    },
    {
      "cell_type": "markdown",
      "metadata": {
        "id": "5I5Kxqp2tca7"
      },
      "source": [
        "As documented on the homepage, `b'data'` contains rows of 3073 unsigned integers, representing three channels (red, green, and blue) for one 32x32 pixel image per row."
      ]
    },
    {
      "cell_type": "code",
      "execution_count": null,
      "metadata": {
        "id": "d0fnofnLtca7",
        "outputId": "e514154f-cec8-41bb-fdf1-34ebfbca09df"
      },
      "outputs": [
        {
          "data": {
            "text/plain": [
              "3072"
            ]
          },
          "execution_count": 51,
          "metadata": {},
          "output_type": "execute_result"
        }
      ],
      "source": [
        "32*32*3"
      ]
    },
    {
      "cell_type": "markdown",
      "metadata": {
        "id": "stv-_OO6tca8"
      },
      "source": [
        "For a simple gut-check, let's transform one of our images. Each 1024 items in a row is a channel (red, green, then blue). Each 32 items in the channel are a row in the 32x32 image. Using python, we can stack these channels into a 32x32x3 array, and save it as a PNG file:"
      ]
    },
    {
      "cell_type": "code",
      "execution_count": null,
      "metadata": {
        "id": "aX6LkPgPtca8"
      },
      "outputs": [],
      "source": [
        "import numpy as np\n",
        "\n",
        "# Each 1024 in a row is a channel (red, green, then blue)\n",
        "row = dataset_train[b'data'][0]\n",
        "red, green, blue = row[0:1024], row[1024:2048], row[2048:]\n",
        "\n",
        "# Each 32 items in the channel are a row in the 32x32 image\n",
        "red = red.reshape(32,32)\n",
        "green = green.reshape(32,32)\n",
        "blue = blue.reshape(32,32)\n",
        "\n",
        "# Combine the channels into a 32x32x3 image!\n",
        "combined = np.dstack((red,green,blue))"
      ]
    },
    {
      "cell_type": "markdown",
      "metadata": {
        "id": "VBiSD4tvtca8"
      },
      "source": [
        "For a more concise version, consider the following:"
      ]
    },
    {
      "cell_type": "code",
      "execution_count": null,
      "metadata": {
        "id": "4DAx6-Ditca8"
      },
      "outputs": [],
      "source": [
        "# All in one:\n",
        "test_image = np.dstack((\n",
        "    row[0:1024].reshape(32,32),\n",
        "    row[1024:2048].reshape(32,32),\n",
        "    row[2048:].reshape(32,32)\n",
        "))"
      ]
    },
    {
      "cell_type": "code",
      "execution_count": null,
      "metadata": {
        "id": "1WHEivdZtca9",
        "outputId": "8c27bfbb-6599-478e-d487-acef8f034f97"
      },
      "outputs": [
        {
          "data": {
            "image/png": "[encoded data removed]",
            "text/plain": [
              "<Figure size 640x480 with 1 Axes>"
            ]
          },
          "metadata": {},
          "output_type": "display_data"
        }
      ],
      "source": [
        "import matplotlib.pyplot as plt\n",
        "plt.imshow(test_image);"
      ]
    },
    {
      "cell_type": "markdown",
      "metadata": {
        "id": "evUdjZpptca9"
      },
      "source": [
        "Looks like a cow! Let's check the label. `dataset_meta` contains label names in order, and `dataset_train` has a list of labels for each row."
      ]
    },
    {
      "cell_type": "code",
      "execution_count": null,
      "metadata": {
        "id": "Hj1cjSOmtca9",
        "outputId": "615fa799-af34-4287-bc52-c69cf7847718"
      },
      "outputs": [
        {
          "data": {
            "text/plain": [
              "19"
            ]
          },
          "execution_count": 19,
          "metadata": {},
          "output_type": "execute_result"
        }
      ],
      "source": [
        "dataset_train[b'fine_labels'][0]"
      ]
    },
    {
      "cell_type": "markdown",
      "metadata": {
        "id": "4WEMtbDAtca-"
      },
      "source": [
        "Our image has a label of `19`, so let's see what the 19th item is in the list of label names."
      ]
    },
    {
      "cell_type": "code",
      "execution_count": null,
      "metadata": {
        "id": "Vu4SXJNVtca-",
        "outputId": "30b758ef-2011-470a-deba-1571e86ba5e5"
      },
      "outputs": [
        {
          "name": "stdout",
          "output_type": "stream",
          "text": [
            "b'cattle'\n"
          ]
        }
      ],
      "source": [
        "print(dataset_meta[b'fine_label_names'][19])"
      ]
    },
    {
      "cell_type": "markdown",
      "metadata": {
        "id": "Vqm-DQ8vtca_"
      },
      "source": [
        "Ok! 'cattle' sounds about right. By the way, using the previous two lines we can do:"
      ]
    },
    {
      "cell_type": "code",
      "execution_count": null,
      "metadata": {
        "id": "ZuZbwmE6tca_",
        "outputId": "3de8c1a6-e3b0-4217-de40-522b60bf5fcb"
      },
      "outputs": [
        {
          "name": "stdout",
          "output_type": "stream",
          "text": [
            "b'cattle'\n"
          ]
        }
      ],
      "source": [
        "n = 0\n",
        "print(dataset_meta[b'fine_label_names'][dataset_train[b'fine_labels'][n]])"
      ]
    },
    {
      "cell_type": "markdown",
      "metadata": {
        "id": "3KZy103Qtca_"
      },
      "source": [
        "Now we know how to check labels, is there a way that we can also check file names? `dataset_train` also contains a `b'filenames'` key. Let's see what we have here:"
      ]
    },
    {
      "cell_type": "code",
      "execution_count": null,
      "metadata": {
        "id": "jmFRQF3btcbA",
        "outputId": "adf51718-ba43-487b-d406-29ad5b77c8ff"
      },
      "outputs": [
        {
          "name": "stdout",
          "output_type": "stream",
          "text": [
            "b'bos_taurus_s_000507.png'\n"
          ]
        }
      ],
      "source": [
        "print(dataset_train[b'filenames'][0])"
      ]
    },
    {
      "cell_type": "markdown",
      "metadata": {
        "id": "oFxMwOmYtcbA"
      },
      "source": [
        "\"Taurus\" is the name of a subspecies of cattle, so this looks like a pretty reasonable filename. To save an image we can also do:"
      ]
    },
    {
      "cell_type": "code",
      "execution_count": null,
      "metadata": {
        "id": "FSF0tVyRtcbA"
      },
      "outputs": [],
      "source": [
        "plt.imsave(\"file.png\", test_image)"
      ]
    },
    {
      "cell_type": "markdown",
      "metadata": {
        "id": "TFrDB3PytcbA"
      },
      "source": [
        "Your new PNG file should now appear in the file explorer -- go ahead and pop it open to see!\n",
        "\n",
        "Now that you know how to reshape the images, save them as files, and capture their filenames and labels, let's just capture all the bicycles and motorcycles and save them.\n",
        "\n",
        "In the following cell, identify the label numbers for Bicycles and Motorcycles:"
      ]
    },
    {
      "cell_type": "code",
      "execution_count": null,
      "metadata": {
        "id": "sUZsyiOrtcbB",
        "outputId": "735772a5-52d1-495c-e9ea-2e0eb8e385ee"
      },
      "outputs": [
        {
          "name": "stdout",
          "output_type": "stream",
          "text": [
            "Label Numbers:\n",
            "bicycle: 8\n",
            "motorcycle: 48\n"
          ]
        }
      ],
      "source": [
        "import pandas as pd\n",
        "\n",
        "# Define the label names for Bicycles and Motorcycles\n",
        "target_labels = [\"bicycle\", \"motorcycle\"]\n",
        "\n",
        "# Find the label numbers for Bicycles and Motorcycles\n",
        "label_numbers = []\n",
        "for label_num, label_name in enumerate(dataset_meta[b'fine_label_names']):\n",
        "    decoded_label_name = label_name.decode(\"utf-8\")\n",
        "    if decoded_label_name in target_labels:\n",
        "        label_numbers.append(label_num)\n",
        "\n",
        "# Print the label numbers for Bicycles and Motorcycles\n",
        "print(\"Label Numbers:\")\n",
        "for label_name, label_num in zip(target_labels, label_numbers):\n",
        "    print(f\"{label_name}: {label_num}\")\n"
      ]
    },
    {
      "cell_type": "markdown",
      "metadata": {
        "id": "Z3AKVYxNtcbB"
      },
      "source": [
        "Good job! We only need objects with label 8 and 48 -- this drastically simplifies our handling of the data! Below we construct a dataframe for you, and you can safely drop the rows that don't contain observations about bicycles and motorcycles. Fill in the missing lines below to drop all other rows:"
      ]
    },
    {
      "cell_type": "code",
      "execution_count": null,
      "metadata": {
        "id": "riELWbO3tcbB"
      },
      "outputs": [],
      "source": [
        "#Construct the dataframe\n",
        "df_train = pd.DataFrame({\n",
        "    \"filenames\": dataset_train[b'filenames'],\n",
        "    \"labels\": dataset_train[b'fine_labels'],\n",
        "    \"row\": range(len(dataset_train[b'filenames']))\n",
        "})\n",
        "\n",
        "# Drop all rows from df_train where label is not 8 or 48\n",
        "df_train = df_train[df_train[\"labels\"].isin([8, 48])]\n",
        "\n",
        "# Decode df_train.filenames so they are regular strings\n",
        "df_train[\"filenames\"] = df_train[\"filenames\"].apply(\n",
        "    lambda x: x.decode(\"utf-8\")\n",
        ")\n",
        "\n",
        "\n",
        "df_test = pd.DataFrame({\n",
        "    \"filenames\": dataset_test[b'filenames'],\n",
        "    \"labels\": dataset_test[b'fine_labels'],\n",
        "    \"row\": range(len(dataset_test[b'filenames']))\n",
        "})\n",
        "\n",
        "# Drop all rows from df_test where label is not 8 or 48\n",
        "df_test = df_test[df_test[\"labels\"].isin([8, 48])]\n",
        "\n",
        "# Decode df_test.filenames so they are regular strings\n",
        "df_test[\"filenames\"] = df_test[\"filenames\"].apply(\n",
        "    lambda x: x.decode(\"utf-8\")\n",
        ")"
      ]
    },
    {
      "cell_type": "markdown",
      "metadata": {
        "id": "U311erVqtcbC"
      },
      "source": [
        "Now that the data is filtered for just our classes, we can save all our images."
      ]
    },
    {
      "cell_type": "code",
      "execution_count": null,
      "metadata": {
        "id": "4AFnNhyytcbC"
      },
      "outputs": [],
      "source": [
        "!mkdir ./train\n",
        "!mkdir ./test"
      ]
    },
    {
      "cell_type": "markdown",
      "metadata": {
        "id": "GdutYeDHtcbC"
      },
      "source": [
        "\n",
        "Compose these together into a function that saves all the images into the `./test` and `./train` directories.\n"
      ]
    },
    {
      "cell_type": "code",
      "execution_count": null,
      "metadata": {
        "id": "okDxoFeLtcbC"
      },
      "outputs": [],
      "source": [
        "def save_images(dataset,row,directory):\n",
        "    #Grab the image data in row-major form\n",
        "    img = dataset[b'data'][row]\n",
        "\n",
        "    # Consolidated stacking/reshaping from earlier\n",
        "    target = np.dstack((\n",
        "    img[0:1024].reshape(32,32),\n",
        "    img[1024:2048].reshape(32,32),\n",
        "    img[2048:].reshape(32,32)\n",
        "    ))\n",
        "\n",
        "    # Save the image\n",
        "    plt.imsave(directory, target)\n",
        "\n",
        "    # Return any signal data you want for debugging\n",
        "    return\n",
        "for index, row in df_train.iterrows():\n",
        "    save_images(dataset_train,row[\"row\"],\"train/\"+row[\"filenames\"])\n",
        "for index, row in df_test.iterrows():\n",
        "    save_images(dataset_test,row[\"row\"],\"test/\"+row[\"filenames\"])"
      ]
    },
    {
      "cell_type": "markdown",
      "metadata": {
        "id": "5DSsBVW7tcbD"
      },
      "source": [
        "### 3. Load the data\n",
        "\n",
        "Now we can load the data into S3.\n",
        "\n",
        "Using the sagemaker SDK grab the current region, execution role, and bucket."
      ]
    },
    {
      "cell_type": "code",
      "execution_count": null,
      "metadata": {
        "id": "nCjsKNqatcbD",
        "outputId": "77d6d8d3-b660-4dff-c6ef-d07c9f81da02"
      },
      "outputs": [
        {
          "name": "stdout",
          "output_type": "stream",
          "text": [
            "Default Bucket: sagemaker-studio-qoiwf6trndq\n",
            "AWS Region: us-east-1\n",
            "RoleArn: arn:aws:iam::498048198264:role/service-role/AmazonSageMaker-ExecutionRole-20230821T160023\n"
          ]
        }
      ],
      "source": [
        "import sagemaker\n",
        "import boto3\n",
        "\n",
        "\n",
        "bucket = \"sagemaker-studio-qoiwf6trndq\"\n",
        "\n",
        "# Print the bucket name\n",
        "print(\"Default Bucket: {}\".format(bucket))\n",
        "\n",
        "# Get the AWS region\n",
        "region = boto3.Session().region_name\n",
        "\n",
        "# Print the AWS region\n",
        "print(\"AWS Region: {}\".format(region))\n",
        "\n",
        "# Get the IAM role ARN\n",
        "role = sagemaker.get_execution_role()\n",
        "\n",
        "# Print the IAM role ARN\n",
        "print(\"RoleArn: {}\".format(role))"
      ]
    },
    {
      "cell_type": "markdown",
      "metadata": {
        "id": "OeliLzQQtcbD"
      },
      "source": [
        "With this data we can easily sync your data up into S3!"
      ]
    },
    {
      "cell_type": "code",
      "execution_count": null,
      "metadata": {
        "id": "ionMqGw2tcbE"
      },
      "outputs": [],
      "source": [
        "import os\n",
        "\n",
        "os.environ[\"DEFAULT_S3_BUCKET\"] = bucket\n",
        "!aws s3 sync ./train s3://${DEFAULT_S3_BUCKET}/train/\n",
        "!aws s3 sync ./test s3://${DEFAULT_S3_BUCKET}/test/"
      ]
    },
    {
      "cell_type": "markdown",
      "metadata": {
        "id": "DkMl1i5PtcbO"
      },
      "source": [
        "And that's it! You can check the bucket and verify that the items were uploaded.\n",
        "\n",
        "## Model Training\n",
        "\n",
        "For Image Classification, Sagemaker [also expects metadata](https://docs.aws.amazon.com/sagemaker/latest/dg/image-classification.html) e.g. in the form of TSV files with labels and filepaths. We can generate these using our Pandas DataFrames from earlier:"
      ]
    },
    {
      "cell_type": "code",
      "execution_count": null,
      "metadata": {
        "id": "J9QNmoCrtcbP"
      },
      "outputs": [],
      "source": [
        "def to_metadata_file(df, prefix):\n",
        "    df[\"s3_path\"] = df[\"filenames\"]\n",
        "    df[\"labels\"] = df[\"labels\"].apply(lambda x: 0 if x==8 else 1)\n",
        "    return df[[\"row\", \"labels\", \"s3_path\"]].to_csv(\n",
        "        f\"{prefix}.lst\", sep=\"\\t\", index=False, header=False\n",
        "    )\n",
        "\n",
        "to_metadata_file(df_train.copy(), \"train\")\n",
        "to_metadata_file(df_test.copy(), \"test\")"
      ]
    },
    {
      "cell_type": "markdown",
      "metadata": {
        "id": "lJLl-ijItcbP"
      },
      "source": [
        "We can also upload our manifest files:"
      ]
    },
    {
      "cell_type": "code",
      "execution_count": null,
      "metadata": {
        "id": "bw_nHqFWtcbP"
      },
      "outputs": [],
      "source": [
        "import boto3\n",
        "\n",
        "# Upload files\n",
        "boto3.Session().resource('s3').Bucket(\n",
        "    bucket).Object('train.lst').upload_file('./train.lst')\n",
        "boto3.Session().resource('s3').Bucket(\n",
        "    bucket).Object('test.lst').upload_file('./test.lst')"
      ]
    },
    {
      "cell_type": "markdown",
      "metadata": {
        "id": "MygEqWZAtcbQ"
      },
      "source": [
        "Using the `bucket` and `region` info we can get the latest prebuilt container to run our training job, and define an output location on our s3 bucket for the model. Use the `image_uris` function from the SageMaker SDK to retrieve the latest `image-classification` image below:"
      ]
    },
    {
      "cell_type": "code",
      "execution_count": null,
      "metadata": {
        "id": "xN8Lh9IwtcbQ"
      },
      "outputs": [],
      "source": [
        "# Use the image_uris function to retrieve the latest 'image-classification' image\n",
        "algo_image =sagemaker.image_uris.retrieve(\"image-classification\", region)\n",
        "s3_output_location = f\"s3://{bucket}/models/image_model\""
      ]
    },
    {
      "cell_type": "markdown",
      "metadata": {
        "id": "7S1kQ7pJtcbQ"
      },
      "source": [
        "We're ready to create an estimator! Create an estimator `img_classifier_model` that uses one instance of `ml.p3.2xlarge`."
      ]
    },
    {
      "cell_type": "code",
      "execution_count": null,
      "metadata": {
        "id": "yEYePd99tcbR"
      },
      "outputs": [],
      "source": [
        "img_classifier_model=sagemaker.estimator.Estimator(\n",
        "    image_uri=algo_image,\n",
        "    instance_type=\"ml.p3.2xlarge\",\n",
        "    instance_count=1,\n",
        "    role=sagemaker.get_execution_role(),\n",
        "    output_path=s3_output_location,\n",
        "    sagemaker_session=sagemaker.Session()\n",
        ")"
      ]
    },
    {
      "cell_type": "markdown",
      "metadata": {
        "id": "VnG1EtHntcbR"
      },
      "source": [
        "We can also set a few key hyperparameters and define the inputs for our model:"
      ]
    },
    {
      "cell_type": "code",
      "execution_count": null,
      "metadata": {
        "id": "o7nJvwxAtcbR"
      },
      "outputs": [],
      "source": [
        "img_classifier_model.set_hyperparameters(\n",
        "    image_shape=\"3,32,32\",  # Image shape: channels, height, width\n",
        "    num_classes=2,  # Number of classes (binary classification in this case)\n",
        "    num_training_samples=len(df_train)  # Total number of training samples\n",
        ")"
      ]
    },
    {
      "cell_type": "markdown",
      "metadata": {
        "id": "DAP68dY1tcbR"
      },
      "source": [
        "The `image-classification` image uses four input channels with very specific input parameters. For convenience, we've provided them below:"
      ]
    },
    {
      "cell_type": "code",
      "execution_count": null,
      "metadata": {
        "id": "ZCdYH28ytcbS"
      },
      "outputs": [],
      "source": [
        "from sagemaker.debugger import Rule, rule_configs\n",
        "from sagemaker.session import TrainingInput\n",
        "model_inputs = {\n",
        "        \"train\": sagemaker.inputs.TrainingInput(\n",
        "            s3_data=f\"s3://{bucket}/train/\",\n",
        "            content_type=\"application/x-image\"\n",
        "        ),\n",
        "        \"validation\": sagemaker.inputs.TrainingInput(\n",
        "            s3_data=f\"s3://{bucket}/test/\",\n",
        "            content_type=\"application/x-image\"\n",
        "        ),\n",
        "        \"train_lst\": sagemaker.inputs.TrainingInput(\n",
        "            s3_data=f\"s3://{bucket}/train.lst\",\n",
        "            content_type=\"application/x-image\"\n",
        "        ),\n",
        "        \"validation_lst\": sagemaker.inputs.TrainingInput(\n",
        "            s3_data=f\"s3://{bucket}/test.lst\",\n",
        "            content_type=\"application/x-image\"\n",
        "        )\n",
        "}"
      ]
    },
    {
      "cell_type": "markdown",
      "metadata": {
        "id": "bA3b34fztcbS"
      },
      "source": [
        "Great, now we can train the model using the model_inputs."
      ]
    },
    {
      "cell_type": "code",
      "execution_count": null,
      "metadata": {
        "id": "I41APKiBtcbS",
        "outputId": "cdba5ead-e718-4c43-d55d-87282ec403cc"
      },
      "outputs": [
        {
          "name": "stderr",
          "output_type": "stream",
          "text": [
            "INFO:sagemaker:Creating training-job with name: image-classification-2023-08-22-22-42-55-319\n"
          ]
        },
        {
          "name": "stdout",
          "output_type": "stream",
          "text": [
            "2023-08-22 22:42:55 Starting - Starting the training job......\n",
            "2023-08-22 22:43:29 Starting - Preparing the instances for training......\n",
            "2023-08-22 22:44:33 Downloading - Downloading input data...\n",
            "2023-08-22 22:44:58 Training - Downloading the training image..................\n",
            "2023-08-22 22:48:04 Training - Training image download completed. Training in progress...\u001b[34mDocker entrypoint called with argument(s): train\u001b[0m\n",
            "\u001b[34mRunning default environment configuration script\u001b[0m\n",
            "\u001b[34mNvidia gpu devices, drivers and cuda toolkit versions (only available on hosts with GPU):\u001b[0m\n",
            "\u001b[34mTue Aug 22 22:48:32 2023       \u001b[0m\n",
            "\u001b[34m+---------------------------------------------------------------------------------------+\u001b[0m\n",
            "\u001b[34m| NVIDIA-SMI 535.54.03              Driver Version: 535.54.03    CUDA Version: 12.2     |\u001b[0m\n",
            "\u001b[34m|-----------------------------------------+----------------------+----------------------+\u001b[0m\n",
            "\u001b[34m| GPU  Name                 Persistence-M | Bus-Id        Disp.A | Volatile Uncorr. ECC |\u001b[0m\n",
            "\u001b[34m| Fan  Temp   Perf          Pwr:Usage/Cap |         Memory-Usage | GPU-Util  Compute M. |\u001b[0m\n",
            "\u001b[34m|                                         |                      |               MIG M. |\u001b[0m\n",
            "\u001b[34m|=========================================+======================+======================|\u001b[0m\n",
            "\u001b[34m|   0  Tesla V100-SXM2-16GB           On  | 00000000:00:1E.0 Off |                    0 |\u001b[0m\n",
            "\u001b[34m| N/A   38C    P0              24W / 300W |      0MiB / 16384MiB |      0%      Default |\u001b[0m\n",
            "\u001b[34m|                                         |                      |                  N/A |\u001b[0m\n",
            "\u001b[34m+-----------------------------------------+----------------------+----------------------+\n",
            "                                                                                         \u001b[0m\n",
            "\u001b[34m+---------------------------------------------------------------------------------------+\u001b[0m\n",
            "\u001b[34m| Processes:                                                                            |\u001b[0m\n",
            "\u001b[34m|  GPU   GI   CI        PID   Type   Process name                            GPU Memory |\u001b[0m\n",
            "\u001b[34m|        ID   ID                                                             Usage      |\u001b[0m\n",
            "\u001b[34m|=======================================================================================|\u001b[0m\n",
            "\u001b[34m|  No running processes found                                                           |\u001b[0m\n",
            "\u001b[34m+---------------------------------------------------------------------------------------+\u001b[0m\n",
            "\u001b[34mChecking for nvidia driver and cuda compatibility.\u001b[0m\n",
            "\u001b[34mCUDA Compatibility driver provided.\u001b[0m\n",
            "\u001b[34mProceeding with compatibility check between driver, cuda-toolkit and cuda-compat.\u001b[0m\n",
            "\u001b[34mDetected cuda-toolkit version: 11.1.\u001b[0m\n",
            "\u001b[34mDetected cuda-compat version: 455.32.00.\u001b[0m\n",
            "\u001b[34mDetected Nvidia driver version: 535.54.03.\u001b[0m\n",
            "\u001b[34mNvidia driver compatible with cuda-toolkit. Disabling cuda-compat.\u001b[0m\n",
            "\u001b[34m[08/22/2023 22:48:35 INFO 140283854260032] Reading default configuration from /opt/amazon/lib/python3.7/site-packages/image_classification/default-input.json: {'use_pretrained_model': 0, 'num_layers': 152, 'epochs': 30, 'learning_rate': 0.1, 'lr_scheduler_factor': 0.1, 'optimizer': 'sgd', 'momentum': 0, 'weight_decay': 0.0001, 'beta_1': 0.9, 'beta_2': 0.999, 'eps': 1e-08, 'gamma': 0.9, 'mini_batch_size': 32, 'image_shape': '3,224,224', 'precision_dtype': 'float32'}\u001b[0m\n",
            "\u001b[34m[08/22/2023 22:48:35 INFO 140283854260032] Merging with provided configuration from /opt/ml/input/config/hyperparameters.json: {'image_shape': '3,32,32', 'num_classes': '2', 'num_training_samples': '1000'}\u001b[0m\n",
            "\u001b[34m[08/22/2023 22:48:35 INFO 140283854260032] Final configuration: {'use_pretrained_model': 0, 'num_layers': 152, 'epochs': 30, 'learning_rate': 0.1, 'lr_scheduler_factor': 0.1, 'optimizer': 'sgd', 'momentum': 0, 'weight_decay': 0.0001, 'beta_1': 0.9, 'beta_2': 0.999, 'eps': 1e-08, 'gamma': 0.9, 'mini_batch_size': 32, 'image_shape': '3,32,32', 'precision_dtype': 'float32', 'num_classes': '2', 'num_training_samples': '1000'}\u001b[0m\n",
            "\u001b[34m[08/22/2023 22:48:35 INFO 140283854260032] Searching for .lst files in /opt/ml/input/data/train_lst.\u001b[0m\n",
            "\u001b[34m[08/22/2023 22:48:35 INFO 140283854260032] Creating record files for train.lst\u001b[0m\n",
            "\u001b[34m[08/22/2023 22:48:36 INFO 140283854260032] Done creating record files...\u001b[0m\n",
            "\u001b[34m[08/22/2023 22:48:36 INFO 140283854260032] Searching for .lst files in /opt/ml/input/data/validation_lst.\u001b[0m\n",
            "\u001b[34m[08/22/2023 22:48:36 INFO 140283854260032] Creating record files for test.lst\u001b[0m\n",
            "\u001b[34m[08/22/2023 22:48:36 INFO 140283854260032] Done creating record files...\u001b[0m\n",
            "\u001b[34m[08/22/2023 22:48:36 INFO 140283854260032] use_pretrained_model: 0\u001b[0m\n",
            "\u001b[34m[08/22/2023 22:48:36 INFO 140283854260032] multi_label: 0\u001b[0m\n",
            "\u001b[34m[08/22/2023 22:48:36 INFO 140283854260032] Performing random weight initialization\u001b[0m\n",
            "\u001b[34m[08/22/2023 22:48:36 INFO 140283854260032] ---- Parameters ----\u001b[0m\n",
            "\u001b[34m[08/22/2023 22:48:36 INFO 140283854260032] num_layers: 152\u001b[0m\n",
            "\u001b[34m[08/22/2023 22:48:36 INFO 140283854260032] data type: <class 'numpy.float32'>\u001b[0m\n",
            "\u001b[34m[08/22/2023 22:48:36 INFO 140283854260032] epochs: 30\u001b[0m\n",
            "\u001b[34m[08/22/2023 22:48:36 INFO 140283854260032] optimizer: sgd\u001b[0m\n",
            "\u001b[34m[08/22/2023 22:48:36 INFO 140283854260032] momentum: 0.9\u001b[0m\n",
            "\u001b[34m[08/22/2023 22:48:36 INFO 140283854260032] weight_decay: 0.0001\u001b[0m\n",
            "\u001b[34m[08/22/2023 22:48:36 INFO 140283854260032] learning_rate: 0.1\u001b[0m\n",
            "\u001b[34m[08/22/2023 22:48:36 INFO 140283854260032] num_training_samples: 1000\u001b[0m\n",
            "\u001b[34m[08/22/2023 22:48:36 INFO 140283854260032] mini_batch_size: 32\u001b[0m\n",
            "\u001b[34m[08/22/2023 22:48:36 INFO 140283854260032] image_shape: 3,32,32\u001b[0m\n",
            "\u001b[34m[08/22/2023 22:48:36 INFO 140283854260032] num_classes: 2\u001b[0m\n",
            "\u001b[34m[08/22/2023 22:48:36 INFO 140283854260032] augmentation_type: None\u001b[0m\n",
            "\u001b[34m[08/22/2023 22:48:36 INFO 140283854260032] kv_store: device\u001b[0m\n",
            "\u001b[34m[08/22/2023 22:48:36 INFO 140283854260032] checkpoint_frequency not set, will store the best model\u001b[0m\n",
            "\u001b[34m[08/22/2023 22:48:36 INFO 140283854260032] --------------------\u001b[0m\n",
            "\u001b[34m[08/22/2023 22:48:36 INFO 140283854260032] Setting number of threads: 7\u001b[0m\n",
            "\u001b[34m[22:48:40] /opt/brazil-pkg-cache/packages/AIAlgorithmsMXNet/AIAlgorithmsMXNet-1.4.x_ecl_Cuda_11.1.x.212.0/AL2_x86_64/generic-flavor/src/src/operator/nn/./cudnn/./cudnn_algoreg-inl.h:97: Running performance tests to find the best convolution algorithm, this can take a while... (setting env variable MXNET_CUDNN_AUTOTUNE_DEFAULT to 0 to disable)\u001b[0m\n",
            "\u001b[34m[08/22/2023 22:48:45 INFO 140283854260032] Epoch[0] Batch [20]#011Speed: 121.176 samples/sec#011accuracy=0.571429\u001b[0m\n",
            "\u001b[34m[08/22/2023 22:48:47 INFO 140283854260032] Epoch[0] Train-accuracy=0.596774\u001b[0m\n",
            "\u001b[34m[08/22/2023 22:48:47 INFO 140283854260032] Epoch[0] Time cost=6.962\u001b[0m\n",
            "\u001b[34m[08/22/2023 22:48:47 INFO 140283854260032] Epoch[0] Validation-accuracy=0.494792\u001b[0m\n",
            "\u001b[34m[08/22/2023 22:48:47 INFO 140283854260032] Storing the best model with validation accuracy: 0.494792\u001b[0m\n",
            "\u001b[34m[08/22/2023 22:48:48 INFO 140283854260032] Saved checkpoint to \"/opt/ml/model/image-classification-0001.params\"\u001b[0m\n",
            "\u001b[34m[08/22/2023 22:48:51 INFO 140283854260032] Epoch[1] Batch [20]#011Speed: 184.893 samples/sec#011accuracy=0.705357\u001b[0m\n",
            "\u001b[34m[08/22/2023 22:48:53 INFO 140283854260032] Epoch[1] Train-accuracy=0.715726\u001b[0m\n",
            "\u001b[34m[08/22/2023 22:48:53 INFO 140283854260032] Epoch[1] Time cost=5.139\u001b[0m\n",
            "\u001b[34m[08/22/2023 22:48:53 INFO 140283854260032] Epoch[1] Validation-accuracy=0.500000\u001b[0m\n",
            "\u001b[34m[08/22/2023 22:48:54 INFO 140283854260032] Storing the best model with validation accuracy: 0.500000\u001b[0m\n",
            "\u001b[34m[08/22/2023 22:48:54 INFO 140283854260032] Saved checkpoint to \"/opt/ml/model/image-classification-0002.params\"\u001b[0m\n",
            "\u001b[34m[08/22/2023 22:48:57 INFO 140283854260032] Epoch[2] Batch [20]#011Speed: 188.494 samples/sec#011accuracy=0.677083\u001b[0m\n",
            "\u001b[34m[08/22/2023 22:48:59 INFO 140283854260032] Epoch[2] Train-accuracy=0.682460\u001b[0m\n",
            "\u001b[34m[08/22/2023 22:48:59 INFO 140283854260032] Epoch[2] Time cost=5.064\u001b[0m\n",
            "\u001b[34m[08/22/2023 22:49:00 INFO 140283854260032] Epoch[2] Validation-accuracy=0.729167\u001b[0m\n",
            "\u001b[34m[08/22/2023 22:49:00 INFO 140283854260032] Storing the best model with validation accuracy: 0.729167\u001b[0m\n",
            "\u001b[34m[08/22/2023 22:49:00 INFO 140283854260032] Saved checkpoint to \"/opt/ml/model/image-classification-0003.params\"\u001b[0m\n",
            "\u001b[34m[08/22/2023 22:49:04 INFO 140283854260032] Epoch[3] Batch [20]#011Speed: 180.671 samples/sec#011accuracy=0.732143\u001b[0m\n",
            "\u001b[34m[08/22/2023 22:49:06 INFO 140283854260032] Epoch[3] Train-accuracy=0.760081\u001b[0m\n",
            "\u001b[34m[08/22/2023 22:49:06 INFO 140283854260032] Epoch[3] Time cost=5.215\u001b[0m\n",
            "\u001b[34m[08/22/2023 22:49:06 INFO 140283854260032] Epoch[3] Validation-accuracy=0.767857\u001b[0m\n",
            "\u001b[34m[08/22/2023 22:49:06 INFO 140283854260032] Storing the best model with validation accuracy: 0.767857\u001b[0m\n",
            "\u001b[34m[08/22/2023 22:49:07 INFO 140283854260032] Saved checkpoint to \"/opt/ml/model/image-classification-0004.params\"\u001b[0m\n",
            "\u001b[34m[08/22/2023 22:49:10 INFO 140283854260032] Epoch[4] Batch [20]#011Speed: 186.797 samples/sec#011accuracy=0.781250\u001b[0m\n",
            "\u001b[34m[08/22/2023 22:49:12 INFO 140283854260032] Epoch[4] Train-accuracy=0.784274\u001b[0m\n",
            "\u001b[34m[08/22/2023 22:49:12 INFO 140283854260032] Epoch[4] Time cost=5.101\u001b[0m\n",
            "\u001b[34m[08/22/2023 22:49:12 INFO 140283854260032] Epoch[4] Validation-accuracy=0.796875\u001b[0m\n",
            "\u001b[34m[08/22/2023 22:49:13 INFO 140283854260032] Storing the best model with validation accuracy: 0.796875\u001b[0m\n",
            "\u001b[34m[08/22/2023 22:49:13 INFO 140283854260032] Saved checkpoint to \"/opt/ml/model/image-classification-0005.params\"\u001b[0m\n",
            "\u001b[34m[08/22/2023 22:49:16 INFO 140283854260032] Epoch[5] Batch [20]#011Speed: 187.674 samples/sec#011accuracy=0.788690\u001b[0m\n",
            "\u001b[34m[08/22/2023 22:49:18 INFO 140283854260032] Epoch[5] Train-accuracy=0.783266\u001b[0m\n",
            "\u001b[34m[08/22/2023 22:49:18 INFO 140283854260032] Epoch[5] Time cost=5.096\u001b[0m\n",
            "\u001b[34m[08/22/2023 22:49:19 INFO 140283854260032] Epoch[5] Validation-accuracy=0.802083\u001b[0m\n",
            "\u001b[34m[08/22/2023 22:49:19 INFO 140283854260032] Storing the best model with validation accuracy: 0.802083\u001b[0m\n",
            "\u001b[34m[08/22/2023 22:49:19 INFO 140283854260032] Saved checkpoint to \"/opt/ml/model/image-classification-0006.params\"\u001b[0m\n",
            "\u001b[34m[08/22/2023 22:49:23 INFO 140283854260032] Epoch[6] Batch [20]#011Speed: 187.807 samples/sec#011accuracy=0.815476\u001b[0m\n",
            "\u001b[34m[08/22/2023 22:49:24 INFO 140283854260032] Epoch[6] Train-accuracy=0.797379\u001b[0m\n",
            "\u001b[34m[08/22/2023 22:49:24 INFO 140283854260032] Epoch[6] Time cost=5.075\u001b[0m\n",
            "\u001b[34m[08/22/2023 22:49:25 INFO 140283854260032] Epoch[6] Validation-accuracy=0.776042\u001b[0m\n",
            "\u001b[34m[08/22/2023 22:49:29 INFO 140283854260032] Epoch[7] Batch [20]#011Speed: 185.933 samples/sec#011accuracy=0.830357\u001b[0m\n",
            "\u001b[34m[08/22/2023 22:49:30 INFO 140283854260032] Epoch[7] Train-accuracy=0.822581\u001b[0m\n",
            "\u001b[34m[08/22/2023 22:49:30 INFO 140283854260032] Epoch[7] Time cost=5.122\u001b[0m\n",
            "\u001b[34m[08/22/2023 22:49:31 INFO 140283854260032] Epoch[7] Validation-accuracy=0.772321\u001b[0m\n",
            "\u001b[34m[08/22/2023 22:49:35 INFO 140283854260032] Epoch[8] Batch [20]#011Speed: 187.461 samples/sec#011accuracy=0.824405\u001b[0m\n",
            "\u001b[34m[08/22/2023 22:49:37 INFO 140283854260032] Epoch[8] Train-accuracy=0.827621\u001b[0m\n",
            "\u001b[34m[08/22/2023 22:49:37 INFO 140283854260032] Epoch[8] Time cost=5.089\u001b[0m\n",
            "\u001b[34m[08/22/2023 22:49:37 INFO 140283854260032] Epoch[8] Validation-accuracy=0.817708\u001b[0m\n",
            "\u001b[34m[08/22/2023 22:49:37 INFO 140283854260032] Storing the best model with validation accuracy: 0.817708\u001b[0m\n",
            "\u001b[34m[08/22/2023 22:49:38 INFO 140283854260032] Saved checkpoint to \"/opt/ml/model/image-classification-0009.params\"\u001b[0m\n",
            "\u001b[34m[08/22/2023 22:49:41 INFO 140283854260032] Epoch[9] Batch [20]#011Speed: 187.807 samples/sec#011accuracy=0.842262\u001b[0m\n",
            "\u001b[34m[08/22/2023 22:49:43 INFO 140283854260032] Epoch[9] Train-accuracy=0.828629\u001b[0m\n",
            "\u001b[34m[08/22/2023 22:49:43 INFO 140283854260032] Epoch[9] Time cost=5.087\u001b[0m\n",
            "\u001b[34m[08/22/2023 22:49:43 INFO 140283854260032] Epoch[9] Validation-accuracy=0.817708\u001b[0m\n",
            "\u001b[34m[08/22/2023 22:49:47 INFO 140283854260032] Epoch[10] Batch [20]#011Speed: 187.455 samples/sec#011accuracy=0.840774\u001b[0m\n",
            "\u001b[34m[08/22/2023 22:49:49 INFO 140283854260032] Epoch[10] Train-accuracy=0.845766\u001b[0m\n",
            "\u001b[34m[08/22/2023 22:49:49 INFO 140283854260032] Epoch[10] Time cost=5.106\u001b[0m\n",
            "\u001b[34m[08/22/2023 22:49:50 INFO 140283854260032] Epoch[10] Validation-accuracy=0.838542\u001b[0m\n",
            "\u001b[34m[08/22/2023 22:49:50 INFO 140283854260032] Storing the best model with validation accuracy: 0.838542\u001b[0m\n",
            "\u001b[34m[08/22/2023 22:49:50 INFO 140283854260032] Saved checkpoint to \"/opt/ml/model/image-classification-0011.params\"\u001b[0m\n",
            "\u001b[34m[08/22/2023 22:49:54 INFO 140283854260032] Epoch[11] Batch [20]#011Speed: 186.238 samples/sec#011accuracy=0.846726\u001b[0m\n",
            "\u001b[34m[08/22/2023 22:49:55 INFO 140283854260032] Epoch[11] Train-accuracy=0.848790\u001b[0m\n",
            "\u001b[34m[08/22/2023 22:49:55 INFO 140283854260032] Epoch[11] Time cost=5.098\u001b[0m\n",
            "\u001b[34m[08/22/2023 22:49:56 INFO 140283854260032] Epoch[11] Validation-accuracy=0.843750\u001b[0m\n",
            "\u001b[34m[08/22/2023 22:49:56 INFO 140283854260032] Storing the best model with validation accuracy: 0.843750\u001b[0m\n",
            "\u001b[34m[08/22/2023 22:49:57 INFO 140283854260032] Saved checkpoint to \"/opt/ml/model/image-classification-0012.params\"\u001b[0m\n",
            "\u001b[34m[08/22/2023 22:50:00 INFO 140283854260032] Epoch[12] Batch [20]#011Speed: 186.528 samples/sec#011accuracy=0.888393\u001b[0m\n",
            "\u001b[34m[08/22/2023 22:50:02 INFO 140283854260032] Epoch[12] Train-accuracy=0.876008\u001b[0m\n",
            "\u001b[34m[08/22/2023 22:50:02 INFO 140283854260032] Epoch[12] Time cost=5.137\u001b[0m\n",
            "\u001b[34m[08/22/2023 22:50:02 INFO 140283854260032] Epoch[12] Validation-accuracy=0.807292\u001b[0m\n",
            "\u001b[34m[08/22/2023 22:50:06 INFO 140283854260032] Epoch[13] Batch [20]#011Speed: 187.862 samples/sec#011accuracy=0.863095\u001b[0m\n",
            "\u001b[34m[08/22/2023 22:50:08 INFO 140283854260032] Epoch[13] Train-accuracy=0.867944\u001b[0m\n",
            "\u001b[34m[08/22/2023 22:50:08 INFO 140283854260032] Epoch[13] Time cost=5.072\u001b[0m\n",
            "\u001b[34m[08/22/2023 22:50:08 INFO 140283854260032] Epoch[13] Validation-accuracy=0.828125\u001b[0m\n",
            "\u001b[34m[08/22/2023 22:50:12 INFO 140283854260032] Epoch[14] Batch [20]#011Speed: 187.751 samples/sec#011accuracy=0.897321\u001b[0m\n",
            "\u001b[34m[08/22/2023 22:50:14 INFO 140283854260032] Epoch[14] Train-accuracy=0.888105\u001b[0m\n",
            "\u001b[34m[08/22/2023 22:50:14 INFO 140283854260032] Epoch[14] Time cost=5.083\u001b[0m\n",
            "\u001b[34m[08/22/2023 22:50:14 INFO 140283854260032] Epoch[14] Validation-accuracy=0.833333\u001b[0m\n",
            "\u001b[34m[08/22/2023 22:50:18 INFO 140283854260032] Epoch[15] Batch [20]#011Speed: 187.935 samples/sec#011accuracy=0.924107\u001b[0m\n",
            "\u001b[34m[08/22/2023 22:50:20 INFO 140283854260032] Epoch[15] Train-accuracy=0.911290\u001b[0m\n",
            "\u001b[34m[08/22/2023 22:50:20 INFO 140283854260032] Epoch[15] Time cost=5.098\u001b[0m\n",
            "\u001b[34m[08/22/2023 22:50:21 INFO 140283854260032] Epoch[15] Validation-accuracy=0.834821\u001b[0m\n",
            "\u001b[34m[08/22/2023 22:50:24 INFO 140283854260032] Epoch[16] Batch [20]#011Speed: 186.419 samples/sec#011accuracy=0.903274\u001b[0m\n",
            "\u001b[34m[08/22/2023 22:50:26 INFO 140283854260032] Epoch[16] Train-accuracy=0.883065\u001b[0m\n",
            "\u001b[34m[08/22/2023 22:50:26 INFO 140283854260032] Epoch[16] Time cost=5.106\u001b[0m\n",
            "\u001b[34m[08/22/2023 22:50:27 INFO 140283854260032] Epoch[16] Validation-accuracy=0.812500\u001b[0m\n",
            "\u001b[34m[08/22/2023 22:50:30 INFO 140283854260032] Epoch[17] Batch [20]#011Speed: 188.910 samples/sec#011accuracy=0.918155\u001b[0m\n",
            "\u001b[34m[08/22/2023 22:50:32 INFO 140283854260032] Epoch[17] Train-accuracy=0.916331\u001b[0m\n",
            "\u001b[34m[08/22/2023 22:50:32 INFO 140283854260032] Epoch[17] Time cost=5.066\u001b[0m\n",
            "\u001b[34m[08/22/2023 22:50:33 INFO 140283854260032] Epoch[17] Validation-accuracy=0.833333\u001b[0m\n",
            "\u001b[34m[08/22/2023 22:50:37 INFO 140283854260032] Epoch[18] Batch [20]#011Speed: 190.087 samples/sec#011accuracy=0.909226\u001b[0m\n",
            "\u001b[34m[08/22/2023 22:50:38 INFO 140283854260032] Epoch[18] Train-accuracy=0.915323\u001b[0m\n",
            "\u001b[34m[08/22/2023 22:50:38 INFO 140283854260032] Epoch[18] Time cost=5.036\u001b[0m\n",
            "\u001b[34m[08/22/2023 22:50:39 INFO 140283854260032] Epoch[18] Validation-accuracy=0.807292\u001b[0m\n",
            "\u001b[34m[08/22/2023 22:50:43 INFO 140283854260032] Epoch[19] Batch [20]#011Speed: 189.225 samples/sec#011accuracy=0.922619\u001b[0m\n",
            "\u001b[34m[08/22/2023 22:50:44 INFO 140283854260032] Epoch[19] Train-accuracy=0.917339\u001b[0m\n",
            "\u001b[34m[08/22/2023 22:50:44 INFO 140283854260032] Epoch[19] Time cost=5.072\u001b[0m\n",
            "\u001b[34m[08/22/2023 22:50:45 INFO 140283854260032] Epoch[19] Validation-accuracy=0.830357\u001b[0m\n",
            "\u001b[34m[08/22/2023 22:50:49 INFO 140283854260032] Epoch[20] Batch [20]#011Speed: 186.940 samples/sec#011accuracy=0.953869\u001b[0m\n",
            "\u001b[34m[08/22/2023 22:50:50 INFO 140283854260032] Epoch[20] Train-accuracy=0.940524\u001b[0m\n",
            "\u001b[34m[08/22/2023 22:50:50 INFO 140283854260032] Epoch[20] Time cost=5.083\u001b[0m\n",
            "\u001b[34m[08/22/2023 22:50:51 INFO 140283854260032] Epoch[20] Validation-accuracy=0.848958\u001b[0m\n",
            "\u001b[34m[08/22/2023 22:50:51 INFO 140283854260032] Storing the best model with validation accuracy: 0.848958\u001b[0m\n",
            "\u001b[34m[08/22/2023 22:50:52 INFO 140283854260032] Saved checkpoint to \"/opt/ml/model/image-classification-0021.params\"\u001b[0m\n",
            "\u001b[34m[08/22/2023 22:50:55 INFO 140283854260032] Epoch[21] Batch [20]#011Speed: 188.720 samples/sec#011accuracy=0.933036\u001b[0m\n",
            "\u001b[34m[08/22/2023 22:50:57 INFO 140283854260032] Epoch[21] Train-accuracy=0.941532\u001b[0m\n",
            "\u001b[34m[08/22/2023 22:50:57 INFO 140283854260032] Epoch[21] Time cost=5.058\u001b[0m\n",
            "\u001b[34m[08/22/2023 22:50:57 INFO 140283854260032] Epoch[21] Validation-accuracy=0.786458\u001b[0m\n",
            "\u001b[34m[08/22/2023 22:51:01 INFO 140283854260032] Epoch[22] Batch [20]#011Speed: 186.461 samples/sec#011accuracy=0.964286\u001b[0m\n",
            "\u001b[34m[08/22/2023 22:51:03 INFO 140283854260032] Epoch[22] Train-accuracy=0.958669\u001b[0m\n",
            "\u001b[34m[08/22/2023 22:51:03 INFO 140283854260032] Epoch[22] Time cost=5.181\u001b[0m\n",
            "\u001b[34m[08/22/2023 22:51:03 INFO 140283854260032] Epoch[22] Validation-accuracy=0.838542\u001b[0m\n",
            "\u001b[34m[08/22/2023 22:51:07 INFO 140283854260032] Epoch[23] Batch [20]#011Speed: 186.174 samples/sec#011accuracy=0.976190\u001b[0m\n",
            "\u001b[34m[08/22/2023 22:51:09 INFO 140283854260032] Epoch[23] Train-accuracy=0.967742\u001b[0m\n",
            "\u001b[34m[08/22/2023 22:51:09 INFO 140283854260032] Epoch[23] Time cost=5.095\u001b[0m\n",
            "\u001b[34m[08/22/2023 22:51:09 INFO 140283854260032] Epoch[23] Validation-accuracy=0.861607\u001b[0m\n",
            "\u001b[34m[08/22/2023 22:51:10 INFO 140283854260032] Storing the best model with validation accuracy: 0.861607\u001b[0m\n",
            "\u001b[34m[08/22/2023 22:51:10 INFO 140283854260032] Saved checkpoint to \"/opt/ml/model/image-classification-0024.params\"\u001b[0m\n",
            "\u001b[34m[08/22/2023 22:51:13 INFO 140283854260032] Epoch[24] Batch [20]#011Speed: 189.031 samples/sec#011accuracy=0.965774\u001b[0m\n",
            "\u001b[34m[08/22/2023 22:51:15 INFO 140283854260032] Epoch[24] Train-accuracy=0.966734\u001b[0m\n",
            "\u001b[34m[08/22/2023 22:51:15 INFO 140283854260032] Epoch[24] Time cost=5.082\u001b[0m\n",
            "\u001b[34m[08/22/2023 22:51:16 INFO 140283854260032] Epoch[24] Validation-accuracy=0.843750\u001b[0m\n",
            "\u001b[34m[08/22/2023 22:51:19 INFO 140283854260032] Epoch[25] Batch [20]#011Speed: 187.870 samples/sec#011accuracy=0.977679\u001b[0m\n",
            "\u001b[34m[08/22/2023 22:51:21 INFO 140283854260032] Epoch[25] Train-accuracy=0.972782\u001b[0m\n",
            "\u001b[34m[08/22/2023 22:51:21 INFO 140283854260032] Epoch[25] Time cost=5.093\u001b[0m\n",
            "\u001b[34m[08/22/2023 22:51:22 INFO 140283854260032] Epoch[25] Validation-accuracy=0.833333\u001b[0m\n",
            "\u001b[34m[08/22/2023 22:51:25 INFO 140283854260032] Epoch[26] Batch [20]#011Speed: 188.658 samples/sec#011accuracy=0.933036\u001b[0m\n",
            "\u001b[34m[08/22/2023 22:51:27 INFO 140283854260032] Epoch[26] Train-accuracy=0.944556\u001b[0m\n",
            "\u001b[34m[08/22/2023 22:51:27 INFO 140283854260032] Epoch[26] Time cost=5.050\u001b[0m\n",
            "\u001b[34m[08/22/2023 22:51:28 INFO 140283854260032] Epoch[26] Validation-accuracy=0.838542\u001b[0m\n",
            "\u001b[34m[08/22/2023 22:51:32 INFO 140283854260032] Epoch[27] Batch [20]#011Speed: 187.820 samples/sec#011accuracy=0.979167\u001b[0m\n",
            "\u001b[34m[08/22/2023 22:51:33 INFO 140283854260032] Epoch[27] Train-accuracy=0.970766\u001b[0m\n",
            "\u001b[34m[08/22/2023 22:51:33 INFO 140283854260032] Epoch[27] Time cost=5.060\u001b[0m\n",
            "\u001b[34m[08/22/2023 22:51:34 INFO 140283854260032] Epoch[27] Validation-accuracy=0.839286\u001b[0m\n",
            "\u001b[34m[08/22/2023 22:51:38 INFO 140283854260032] Epoch[28] Batch [20]#011Speed: 187.710 samples/sec#011accuracy=0.985119\u001b[0m\n",
            "\u001b[34m[08/22/2023 22:51:39 INFO 140283854260032] Epoch[28] Train-accuracy=0.982863\u001b[0m\n",
            "\u001b[34m[08/22/2023 22:51:39 INFO 140283854260032] Epoch[28] Time cost=5.092\u001b[0m\n",
            "\u001b[34m[08/22/2023 22:51:40 INFO 140283854260032] Epoch[28] Validation-accuracy=0.723958\u001b[0m\n",
            "\u001b[34m[08/22/2023 22:51:44 INFO 140283854260032] Epoch[29] Batch [20]#011Speed: 188.790 samples/sec#011accuracy=0.964286\u001b[0m\n",
            "\u001b[34m[08/22/2023 22:51:45 INFO 140283854260032] Epoch[29] Train-accuracy=0.964718\u001b[0m\n",
            "\u001b[34m[08/22/2023 22:51:45 INFO 140283854260032] Epoch[29] Time cost=5.057\u001b[0m\n",
            "\u001b[34m[08/22/2023 22:51:46 INFO 140283854260032] Epoch[29] Validation-accuracy=0.828125\u001b[0m\n",
            "\n",
            "2023-08-22 22:51:55 Uploading - Uploading generated training model\n",
            "2023-08-22 22:52:21 Completed - Training job completed\n",
            "Training seconds: 469\n",
            "Billable seconds: 469\n"
          ]
        }
      ],
      "source": [
        "img_classifier_model.fit(inputs=model_inputs)\n"
      ]
    },
    {
      "cell_type": "markdown",
      "metadata": {
        "id": "TcSz348FtcbT"
      },
      "source": [
        "you'll end up with a model topping out above `.8` validation accuracy. With only 1000 training samples in the CIFAR dataset, that's pretty good.\n",
        "\n",
        "### Getting ready to deploy\n",
        "\n",
        "To begin with, let's configure Model Monitor to track our deployment. We'll define a `DataCaptureConfig` below:"
      ]
    },
    {
      "cell_type": "code",
      "execution_count": null,
      "metadata": {
        "id": "8tNsCwvVtcbT"
      },
      "outputs": [],
      "source": [
        "from sagemaker.model_monitor import DataCaptureConfig\n",
        "\n",
        "data_capture_config = DataCaptureConfig(\n",
        "    enable_capture=True,  # Enable data capture\n",
        "    sampling_percentage=100,  # Percentage of requests to capture\n",
        "    destination_s3_uri=f\"s3://{bucket}/data_capture\"  # S3 location to store captured data\n",
        ")"
      ]
    },
    {
      "cell_type": "markdown",
      "metadata": {
        "id": "Ty7zD1oNtcbT"
      },
      "source": [
        "Note the `destination_s3_uri` parameter: At the end of the project, we can explore the `data_capture` directory in S3 to find crucial data about the inputs and outputs Model Monitor has observed on our model endpoint over time.\n",
        "\n",
        "With that done, deploy your model on a single `ml.m5.xlarge` instance with the data capture config attached:"
      ]
    },
    {
      "cell_type": "code",
      "execution_count": null,
      "metadata": {
        "id": "CfOS0nDNtcbU",
        "outputId": "c5070a7d-076c-4847-a0b6-0a15a91a3534"
      },
      "outputs": [
        {
          "name": "stderr",
          "output_type": "stream",
          "text": [
            "INFO:sagemaker:Creating model with name: image-classification-2023-08-22-22-52-59-515\n",
            "INFO:sagemaker:Creating endpoint-config with name image-classification-2023-08-22-22-52-59-515\n",
            "INFO:sagemaker:Creating endpoint with name image-classification-2023-08-22-22-52-59-515\n"
          ]
        },
        {
          "name": "stdout",
          "output_type": "stream",
          "text": [
            "--------------!image-classification-2023-08-22-22-52-59-515\n"
          ]
        }
      ],
      "source": [
        "deployment = img_classifier_model.deploy(\n",
        "    initial_instance_count=1,  # Number of instances\n",
        "    instance_type=\"ml.m5.xlarge\",  # Instance type\n",
        "    data_capture_config=data_capture_config  # Attach data capture config\n",
        ")\n",
        "endpoint = deployment.endpoint_name\n",
        "print(endpoint)"
      ]
    },
    {
      "cell_type": "markdown",
      "metadata": {
        "id": "fqndUMxbtcbU"
      },
      "source": [
        "Note the endpoint name for later as well.\n",
        "\n",
        "Next, instantiate a Predictor:"
      ]
    },
    {
      "cell_type": "code",
      "execution_count": null,
      "metadata": {
        "id": "ed0QbPU6tcbU",
        "outputId": "8708b9be-f419-4573-d399-7da6c3792777"
      },
      "outputs": [
        {
          "name": "stderr",
          "output_type": "stream",
          "text": [
            "WARNING:sagemaker.deprecations:The class RealTimePredictor has been renamed in sagemaker>=2.\n",
            "See: https://sagemaker.readthedocs.io/en/stable/v2.html for details.\n",
            "WARNING:sagemaker.deprecations:endpoint has been renamed in sagemaker>=2.\n",
            "See: https://sagemaker.readthedocs.io/en/stable/v2.html for details.\n"
          ]
        },
        {
          "name": "stdout",
          "output_type": "stream",
          "text": [
            "Predictor: {'endpoint_name': 'image-classification-2023-08-22-22-52-59-515', 'sagemaker_session': <sagemaker.session.Session object at 0x7f4f6baaf710>, 'serializer': <sagemaker.base_serializers.IdentitySerializer object at 0x7f4f83979f10>, 'deserializer': <sagemaker.base_deserializers.BytesDeserializer object at 0x7f4f839810d0>}\n"
          ]
        }
      ],
      "source": [
        "print(deployment)\n",
        "predictor = sagemaker.predictor.RealTimePredictor(\n",
        "    endpoint=deployment.endpoint_name,\n",
        "    endpoint_name=\"image-classification-2023-08-22-22-52-59-515\",\n",
        "    sagemaker_session=sagemaker.Session()\n",
        ")"
      ]
    },
    {
      "cell_type": "markdown",
      "metadata": {
        "id": "msEHkmHHtcbV"
      },
      "source": [
        "In the code snippet below we are going to prepare one of your saved images for prediction. Use the predictor to process the `payload`."
      ]
    },
    {
      "cell_type": "code",
      "execution_count": null,
      "metadata": {
        "id": "o2ZzpcWwtcbV"
      },
      "outputs": [],
      "source": [
        "from sagemaker.serializers import IdentitySerializer\n",
        "import base64\n",
        "\n",
        "predictor.serializer = IdentitySerializer(\"image/png\")\n",
        "with open(\"./test/bicycle_s_001789.png\", \"rb\") as f:\n",
        "    payload = f.read()\n",
        "\n",
        "\n",
        "inference = predictor.predict(payload)"
      ]
    },
    {
      "cell_type": "markdown",
      "metadata": {
        "id": "izuyoujwtcbV"
      },
      "source": [
        "Your `inference` object is an array of two values, the predicted probability value for each of your classes (bicycle and motorcycle respectively.) So, for example, a value of `b'[0.91, 0.09]'` indicates the probability of being a bike is 91% and being a motorcycle is 9%."
      ]
    },
    {
      "cell_type": "code",
      "execution_count": null,
      "metadata": {
        "id": "nzTbOJYrtcbW",
        "outputId": "4e520892-5d4a-4140-d158-61838d245bd6"
      },
      "outputs": [
        {
          "name": "stdout",
          "output_type": "stream",
          "text": [
            "b'[0.990204930305481, 0.009795118123292923]'\n"
          ]
        }
      ],
      "source": [
        "print(inference)"
      ]
    },
    {
      "cell_type": "markdown",
      "metadata": {
        "id": "b_j_NxVstcbX"
      },
      "source": [
        "\n",
        "### Testing and Evaluation\n",
        "\n",
        "Do several step function invokations using data from the `./test` folder. This process should give you confidence that the workflow both *succeeds* AND *fails* as expected. In addition, SageMaker Model Monitor will generate recordings of your data and inferences which we can visualize.\n",
        "\n",
        "Here's a function that can help you generate test inputs for your invokations:"
      ]
    },
    {
      "cell_type": "code",
      "execution_count": null,
      "metadata": {
        "id": "YECD7lpdtcbX",
        "outputId": "2946482c-4436-43d5-83c0-23475468a76e"
      },
      "outputs": [
        {
          "data": {
            "text/plain": [
              "'{\"image_data\": \"\", \"s3_bucket\": \"sagemaker-studio-qoiwf6trndq\", \"s3_key\": \"test/minibike_s_001867.png\"}'"
            ]
          },
          "execution_count": 86,
          "metadata": {},
          "output_type": "execute_result"
        }
      ],
      "source": [
        "import random\n",
        "import boto3\n",
        "import json\n",
        "\n",
        "\n",
        "def generate_test_case():\n",
        "    # Setup s3 in boto3\n",
        "    s3 = boto3.resource('s3')\n",
        "\n",
        "    # Randomly pick from sfn or test folders in our bucket\n",
        "    objects = s3.Bucket(bucket).objects.filter(Prefix=\"test/\")\n",
        "\n",
        "    # Grab any random object key from that folder!\n",
        "    obj = random.choice([x.key for x in objects])\n",
        "\n",
        "    return json.dumps({\n",
        "        \"image_data\": \"\",\n",
        "        \"s3_bucket\": bucket,\n",
        "        \"s3_key\": obj\n",
        "    })\n",
        "generate_test_case()"
      ]
    },
    {
      "cell_type": "markdown",
      "metadata": {
        "id": "-junMEwAtcbX"
      },
      "source": [
        "In the Step Function dashboard for your new function, you can create new executions and copy in the generated test cases. Do several executions so that you can generate data you can evaluate and visualize.\n",
        "\n",
        "Once you've done several executions, let's visualize the record of our inferences. Pull in the JSONLines data from your inferences like so:"
      ]
    },
    {
      "cell_type": "code",
      "execution_count": null,
      "metadata": {
        "id": "KlTYzkDOtcbY",
        "outputId": "6d949886-1beb-49d5-e648-12fa75fcb346"
      },
      "outputs": [
        {
          "data": {
            "text/plain": [
              "['captured_data/00-33-391-3dc15cb9-120a-47d2-9ad8-ec9d33d5d06a.jsonl',\n",
              " 'captured_data/01-38-447-f053e662-baf7-4c50-9029-5e988d37eb77.jsonl',\n",
              " 'captured_data/02-42-169-f10c52aa-61f0-4631-8a6d-e9bc61b30096.jsonl',\n",
              " 'captured_data/03-43-129-ffbec3c4-ac41-4fa8-818c-7e9ce2d48b58.jsonl',\n",
              " 'captured_data/04-53-864-4fc8acbc-75f6-448c-8332-2fb8a7e14a7d.jsonl',\n",
              " 'captured_data/06-01-813-0a5634b6-09bc-4904-870e-5d2f1b55a8f9.jsonl',\n",
              " 'captured_data/07-22-968-6d52c321-1ad9-47c2-a3e9-1c286d7d95ea.jsonl']"
            ]
          },
          "execution_count": 87,
          "metadata": {},
          "output_type": "execute_result"
        }
      ],
      "source": [
        "from sagemaker.s3 import S3Downloader\n",
        "\n",
        "# In S3 your data will be saved to a datetime-aware path\n",
        "# Find a path related to a datetime you're interested in\n",
        "data_path = \"s3://sagemaker-studio-qoiwf6trndq/data_capture/image-classification-2023-08-22-22-52-59-515/AllTraffic/2023/08/22/23/\"\n",
        "\n",
        "S3Downloader.download(data_path, \"captured_data\")\n"
      ]
    },
    {
      "cell_type": "markdown",
      "metadata": {
        "id": "_q-EX8-YtcbY"
      },
      "source": [
        "The data are in JSONLines format, where multiple valid JSON objects are stacked on top of eachother in a single `jsonl` file. We'll import an open-source library, `jsonlines` that was purpose built for parsing this format."
      ]
    },
    {
      "cell_type": "code",
      "execution_count": null,
      "metadata": {
        "id": "HCOLHpVItcbY",
        "outputId": "bcb9392a-a041-45c4-c0f9-c1aa9e737ea8"
      },
      "outputs": [
        {
          "name": "stdout",
          "output_type": "stream",
          "text": [
            "Requirement already satisfied: jsonlines in /opt/conda/lib/python3.7/site-packages (3.1.0)\n",
            "Requirement already satisfied: attrs>=19.2.0 in /opt/conda/lib/python3.7/site-packages (from jsonlines) (23.1.0)\n",
            "Requirement already satisfied: typing-extensions in /opt/conda/lib/python3.7/site-packages (from jsonlines) (4.7.1)\n",
            "Requirement already satisfied: importlib-metadata in /opt/conda/lib/python3.7/site-packages (from attrs>=19.2.0->jsonlines) (6.7.0)\n",
            "Requirement already satisfied: zipp>=0.5 in /opt/conda/lib/python3.7/site-packages (from importlib-metadata->attrs>=19.2.0->jsonlines) (2.2.0)\n",
            "\u001b[33mDEPRECATION: pyodbc 4.0.0-unsupported has a non-standard version number. pip 23.3 will enforce this behaviour change. A possible replacement is to upgrade to a newer version of pyodbc or contact the author to suggest that they release a version with a conforming version number. Discussion can be found at https://github.com/pypa/pip/issues/12063\u001b[0m\u001b[33m\n",
            "\u001b[0m\u001b[33mWARNING: Running pip as the 'root' user can result in broken permissions and conflicting behaviour with the system package manager. It is recommended to use a virtual environment instead: https://pip.pypa.io/warnings/venv\u001b[0m\u001b[33m\n",
            "\u001b[0m"
          ]
        }
      ],
      "source": [
        "!pip install jsonlines\n",
        "import jsonlines"
      ]
    },
    {
      "cell_type": "markdown",
      "metadata": {
        "id": "xVodDtqKtcbZ"
      },
      "source": [
        "Now we can extract the data from each of the source files:"
      ]
    },
    {
      "cell_type": "code",
      "execution_count": null,
      "metadata": {
        "id": "IPTRodedtcbZ"
      },
      "outputs": [],
      "source": [
        "import os\n",
        "\n",
        "# List the file names we downloaded\n",
        "file_handles = os.listdir(\"./captured_data\")\n",
        "\n",
        "# Dump all the data into an array\n",
        "json_data = []\n",
        "for jsonl in file_handles:\n",
        "    with jsonlines.open(f\"./captured_data/{jsonl}\") as f:\n",
        "        json_data.append(f.read())\n"
      ]
    },
    {
      "cell_type": "markdown",
      "metadata": {
        "id": "_CveBo8JtcbZ"
      },
      "source": [
        "The data should now be a list of dictionaries, with significant nesting. We'll give you an example of some code that grabs data out of the objects and visualizes it:"
      ]
    },
    {
      "cell_type": "code",
      "execution_count": null,
      "metadata": {
        "id": "syvcGw2ytcbZ",
        "outputId": "82126103-c1e8-459c-c102-e91eaa917be8"
      },
      "outputs": [
        {
          "data": {
            "text/plain": [
              "([0.990204930305481, 0.009795118123292923], '2023-08-22T23:00:33Z')"
            ]
          },
          "execution_count": 90,
          "metadata": {},
          "output_type": "execute_result"
        }
      ],
      "source": [
        "# Define how we'll get our data\n",
        "def simple_getter(obj):\n",
        "    inferences = obj[\"captureData\"][\"endpointOutput\"][\"data\"]\n",
        "    timestamp = obj[\"eventMetadata\"][\"inferenceTime\"]\n",
        "    return json.loads(inferences), timestamp\n",
        "\n",
        "simple_getter(json_data[0])"
      ]
    },
    {
      "cell_type": "markdown",
      "metadata": {
        "id": "KLYBJX7Utcba"
      },
      "source": [
        "Finally, here's an example of a visualization."
      ]
    },
    {
      "cell_type": "code",
      "execution_count": null,
      "metadata": {
        "id": "p8l8z0o8tcba",
        "outputId": "7398f254-fbf0-4287-f0ea-9298a0b99730"
      },
      "outputs": [
        {
          "name": "stderr",
          "output_type": "stream",
          "text": [
            "INFO:matplotlib.category:Using categorical units to plot a list of strings that are all parsable as floats or dates. If these strings should be plotted as numbers, cast to the appropriate data type before plotting.\n",
            "INFO:matplotlib.category:Using categorical units to plot a list of strings that are all parsable as floats or dates. If these strings should be plotted as numbers, cast to the appropriate data type before plotting.\n"
          ]
        },
        {
          "data": {
            "image/png": "[encoded data removed]",
            "text/plain": [
              "<Figure size 640x480 with 1 Axes>"
            ]
          },
          "metadata": {},
          "output_type": "display_data"
        }
      ],
      "source": [
        "# Populate the data for the x and y axis\n",
        "%matplotlib inline\n",
        "import json\n",
        "x = []\n",
        "y = []\n",
        "for obj in json_data:\n",
        "    inference, timestamp = simple_getter(obj)\n",
        "\n",
        "    y.append(max(inference))\n",
        "    x.append(timestamp)\n",
        "\n",
        "# Plot the data\n",
        "plt.scatter(x, y, c=['r' if k<.94 else 'b' for k in y ])\n",
        "plt.axhline(y=0.7, color='g', linestyle='--')\n",
        "plt.ylim(bottom=.88)\n",
        "\n",
        "# Add labels\n",
        "plt.ylabel(\"Confidence\")\n",
        "plt.suptitle(\"Observed Recent Inferences\", size=14)\n",
        "plt.title(\"Pictured with confidence threshold for production use\", size=10)\n",
        "\n",
        "# Give it some pizzaz!\n",
        "plt.style.use(\"Solarize_Light2\")\n",
        "plt.gcf().autofmt_xdate()"
      ]
    },
    {
      "cell_type": "code",
      "execution_count": null,
      "metadata": {
        "tags": [],
        "id": "jSpdQR5Ntcba",
        "outputId": "34fbcc94-e145-4ac1-edab-c70be4b7fadc"
      },
      "outputs": [
        {
          "data": {
            "image/png": "[encoded data removed]",
            "text/plain": [
              "<Figure size 1000x600 with 1 Axes>"
            ]
          },
          "metadata": {},
          "output_type": "display_data"
        }
      ],
      "source": [
        "%matplotlib inline\n",
        "import matplotlib.pyplot as plt\n",
        "import numpy as np\n",
        "\n",
        "# Define bins for different confidence ranges\n",
        "bins = np.arange(0.5, 1.01, 0.05)\n",
        "bin_labels = [f\"{b:.2f}-{b+0.05:.2f}\" for b in bins[:-1]]\n",
        "\n",
        "# Create histogram of confidence levels\n",
        "plt.figure(figsize=(10, 6))\n",
        "plt.hist(y, bins=bins, color='blue', edgecolor='black')\n",
        "\n",
        "# Customize labels and title\n",
        "plt.xlabel('Confidence Range')\n",
        "plt.ylabel('Frequency')\n",
        "plt.title('Distribution of Confidence Levels')\n",
        "plt.xticks(bins, bin_labels, rotation=45)\n",
        "plt.grid(axis='y', alpha=0.75)\n",
        "\n",
        "# Display plot\n",
        "plt.show()\n"
      ]
    }
  ],
  "metadata": {
    "availableInstances": [
      {
        "_defaultOrder": 0,
        "_isFastLaunch": true,
        "category": "General purpose",
        "gpuNum": 0,
        "hideHardwareSpecs": false,
        "memoryGiB": 4,
        "name": "ml.t3.medium",
        "vcpuNum": 2
      },
      {
        "_defaultOrder": 1,
        "_isFastLaunch": false,
        "category": "General purpose",
        "gpuNum": 0,
        "hideHardwareSpecs": false,
        "memoryGiB": 8,
        "name": "ml.t3.large",
        "vcpuNum": 2
      },
      {
        "_defaultOrder": 2,
        "_isFastLaunch": false,
        "category": "General purpose",
        "gpuNum": 0,
        "hideHardwareSpecs": false,
        "memoryGiB": 16,
        "name": "ml.t3.xlarge",
        "vcpuNum": 4
      },
      {
        "_defaultOrder": 3,
        "_isFastLaunch": false,
        "category": "General purpose",
        "gpuNum": 0,
        "hideHardwareSpecs": false,
        "memoryGiB": 32,
        "name": "ml.t3.2xlarge",
        "vcpuNum": 8
      },
      {
        "_defaultOrder": 4,
        "_isFastLaunch": true,
        "category": "General purpose",
        "gpuNum": 0,
        "hideHardwareSpecs": false,
        "memoryGiB": 8,
        "name": "ml.m5.large",
        "vcpuNum": 2
      },
      {
        "_defaultOrder": 5,
        "_isFastLaunch": false,
        "category": "General purpose",
        "gpuNum": 0,
        "hideHardwareSpecs": false,
        "memoryGiB": 16,
        "name": "ml.m5.xlarge",
        "vcpuNum": 4
      },
      {
        "_defaultOrder": 6,
        "_isFastLaunch": false,
        "category": "General purpose",
        "gpuNum": 0,
        "hideHardwareSpecs": false,
        "memoryGiB": 32,
        "name": "ml.m5.2xlarge",
        "vcpuNum": 8
      },
      {
        "_defaultOrder": 7,
        "_isFastLaunch": false,
        "category": "General purpose",
        "gpuNum": 0,
        "hideHardwareSpecs": false,
        "memoryGiB": 64,
        "name": "ml.m5.4xlarge",
        "vcpuNum": 16
      },
      {
        "_defaultOrder": 8,
        "_isFastLaunch": false,
        "category": "General purpose",
        "gpuNum": 0,
        "hideHardwareSpecs": false,
        "memoryGiB": 128,
        "name": "ml.m5.8xlarge",
        "vcpuNum": 32
      },
      {
        "_defaultOrder": 9,
        "_isFastLaunch": false,
        "category": "General purpose",
        "gpuNum": 0,
        "hideHardwareSpecs": false,
        "memoryGiB": 192,
        "name": "ml.m5.12xlarge",
        "vcpuNum": 48
      },
      {
        "_defaultOrder": 10,
        "_isFastLaunch": false,
        "category": "General purpose",
        "gpuNum": 0,
        "hideHardwareSpecs": false,
        "memoryGiB": 256,
        "name": "ml.m5.16xlarge",
        "vcpuNum": 64
      },
      {
        "_defaultOrder": 11,
        "_isFastLaunch": false,
        "category": "General purpose",
        "gpuNum": 0,
        "hideHardwareSpecs": false,
        "memoryGiB": 384,
        "name": "ml.m5.24xlarge",
        "vcpuNum": 96
      },
      {
        "_defaultOrder": 12,
        "_isFastLaunch": false,
        "category": "General purpose",
        "gpuNum": 0,
        "hideHardwareSpecs": false,
        "memoryGiB": 8,
        "name": "ml.m5d.large",
        "vcpuNum": 2
      },
      {
        "_defaultOrder": 13,
        "_isFastLaunch": false,
        "category": "General purpose",
        "gpuNum": 0,
        "hideHardwareSpecs": false,
        "memoryGiB": 16,
        "name": "ml.m5d.xlarge",
        "vcpuNum": 4
      },
      {
        "_defaultOrder": 14,
        "_isFastLaunch": false,
        "category": "General purpose",
        "gpuNum": 0,
        "hideHardwareSpecs": false,
        "memoryGiB": 32,
        "name": "ml.m5d.2xlarge",
        "vcpuNum": 8
      },
      {
        "_defaultOrder": 15,
        "_isFastLaunch": false,
        "category": "General purpose",
        "gpuNum": 0,
        "hideHardwareSpecs": false,
        "memoryGiB": 64,
        "name": "ml.m5d.4xlarge",
        "vcpuNum": 16
      },
      {
        "_defaultOrder": 16,
        "_isFastLaunch": false,
        "category": "General purpose",
        "gpuNum": 0,
        "hideHardwareSpecs": false,
        "memoryGiB": 128,
        "name": "ml.m5d.8xlarge",
        "vcpuNum": 32
      },
      {
        "_defaultOrder": 17,
        "_isFastLaunch": false,
        "category": "General purpose",
        "gpuNum": 0,
        "hideHardwareSpecs": false,
        "memoryGiB": 192,
        "name": "ml.m5d.12xlarge",
        "vcpuNum": 48
      },
      {
        "_defaultOrder": 18,
        "_isFastLaunch": false,
        "category": "General purpose",
        "gpuNum": 0,
        "hideHardwareSpecs": false,
        "memoryGiB": 256,
        "name": "ml.m5d.16xlarge",
        "vcpuNum": 64
      },
      {
        "_defaultOrder": 19,
        "_isFastLaunch": false,
        "category": "General purpose",
        "gpuNum": 0,
        "hideHardwareSpecs": false,
        "memoryGiB": 384,
        "name": "ml.m5d.24xlarge",
        "vcpuNum": 96
      },
      {
        "_defaultOrder": 20,
        "_isFastLaunch": false,
        "category": "General purpose",
        "gpuNum": 0,
        "hideHardwareSpecs": true,
        "memoryGiB": 0,
        "name": "ml.geospatial.interactive",
        "supportedImageNames": [
          "sagemaker-geospatial-v1-0"
        ],
        "vcpuNum": 0
      },
      {
        "_defaultOrder": 21,
        "_isFastLaunch": true,
        "category": "Compute optimized",
        "gpuNum": 0,
        "hideHardwareSpecs": false,
        "memoryGiB": 4,
        "name": "ml.c5.large",
        "vcpuNum": 2
      },
      {
        "_defaultOrder": 22,
        "_isFastLaunch": false,
        "category": "Compute optimized",
        "gpuNum": 0,
        "hideHardwareSpecs": false,
        "memoryGiB": 8,
        "name": "ml.c5.xlarge",
        "vcpuNum": 4
      },
      {
        "_defaultOrder": 23,
        "_isFastLaunch": false,
        "category": "Compute optimized",
        "gpuNum": 0,
        "hideHardwareSpecs": false,
        "memoryGiB": 16,
        "name": "ml.c5.2xlarge",
        "vcpuNum": 8
      },
      {
        "_defaultOrder": 24,
        "_isFastLaunch": false,
        "category": "Compute optimized",
        "gpuNum": 0,
        "hideHardwareSpecs": false,
        "memoryGiB": 32,
        "name": "ml.c5.4xlarge",
        "vcpuNum": 16
      },
      {
        "_defaultOrder": 25,
        "_isFastLaunch": false,
        "category": "Compute optimized",
        "gpuNum": 0,
        "hideHardwareSpecs": false,
        "memoryGiB": 72,
        "name": "ml.c5.9xlarge",
        "vcpuNum": 36
      },
      {
        "_defaultOrder": 26,
        "_isFastLaunch": false,
        "category": "Compute optimized",
        "gpuNum": 0,
        "hideHardwareSpecs": false,
        "memoryGiB": 96,
        "name": "ml.c5.12xlarge",
        "vcpuNum": 48
      },
      {
        "_defaultOrder": 27,
        "_isFastLaunch": false,
        "category": "Compute optimized",
        "gpuNum": 0,
        "hideHardwareSpecs": false,
        "memoryGiB": 144,
        "name": "ml.c5.18xlarge",
        "vcpuNum": 72
      },
      {
        "_defaultOrder": 28,
        "_isFastLaunch": false,
        "category": "Compute optimized",
        "gpuNum": 0,
        "hideHardwareSpecs": false,
        "memoryGiB": 192,
        "name": "ml.c5.24xlarge",
        "vcpuNum": 96
      },
      {
        "_defaultOrder": 29,
        "_isFastLaunch": true,
        "category": "Accelerated computing",
        "gpuNum": 1,
        "hideHardwareSpecs": false,
        "memoryGiB": 16,
        "name": "ml.g4dn.xlarge",
        "vcpuNum": 4
      },
      {
        "_defaultOrder": 30,
        "_isFastLaunch": false,
        "category": "Accelerated computing",
        "gpuNum": 1,
        "hideHardwareSpecs": false,
        "memoryGiB": 32,
        "name": "ml.g4dn.2xlarge",
        "vcpuNum": 8
      },
      {
        "_defaultOrder": 31,
        "_isFastLaunch": false,
        "category": "Accelerated computing",
        "gpuNum": 1,
        "hideHardwareSpecs": false,
        "memoryGiB": 64,
        "name": "ml.g4dn.4xlarge",
        "vcpuNum": 16
      },
      {
        "_defaultOrder": 32,
        "_isFastLaunch": false,
        "category": "Accelerated computing",
        "gpuNum": 1,
        "hideHardwareSpecs": false,
        "memoryGiB": 128,
        "name": "ml.g4dn.8xlarge",
        "vcpuNum": 32
      },
      {
        "_defaultOrder": 33,
        "_isFastLaunch": false,
        "category": "Accelerated computing",
        "gpuNum": 4,
        "hideHardwareSpecs": false,
        "memoryGiB": 192,
        "name": "ml.g4dn.12xlarge",
        "vcpuNum": 48
      },
      {
        "_defaultOrder": 34,
        "_isFastLaunch": false,
        "category": "Accelerated computing",
        "gpuNum": 1,
        "hideHardwareSpecs": false,
        "memoryGiB": 256,
        "name": "ml.g4dn.16xlarge",
        "vcpuNum": 64
      },
      {
        "_defaultOrder": 35,
        "_isFastLaunch": false,
        "category": "Accelerated computing",
        "gpuNum": 1,
        "hideHardwareSpecs": false,
        "memoryGiB": 61,
        "name": "ml.p3.2xlarge",
        "vcpuNum": 8
      },
      {
        "_defaultOrder": 36,
        "_isFastLaunch": false,
        "category": "Accelerated computing",
        "gpuNum": 4,
        "hideHardwareSpecs": false,
        "memoryGiB": 244,
        "name": "ml.p3.8xlarge",
        "vcpuNum": 32
      },
      {
        "_defaultOrder": 37,
        "_isFastLaunch": false,
        "category": "Accelerated computing",
        "gpuNum": 8,
        "hideHardwareSpecs": false,
        "memoryGiB": 488,
        "name": "ml.p3.16xlarge",
        "vcpuNum": 64
      },
      {
        "_defaultOrder": 38,
        "_isFastLaunch": false,
        "category": "Accelerated computing",
        "gpuNum": 8,
        "hideHardwareSpecs": false,
        "memoryGiB": 768,
        "name": "ml.p3dn.24xlarge",
        "vcpuNum": 96
      },
      {
        "_defaultOrder": 39,
        "_isFastLaunch": false,
        "category": "Memory Optimized",
        "gpuNum": 0,
        "hideHardwareSpecs": false,
        "memoryGiB": 16,
        "name": "ml.r5.large",
        "vcpuNum": 2
      },
      {
        "_defaultOrder": 40,
        "_isFastLaunch": false,
        "category": "Memory Optimized",
        "gpuNum": 0,
        "hideHardwareSpecs": false,
        "memoryGiB": 32,
        "name": "ml.r5.xlarge",
        "vcpuNum": 4
      },
      {
        "_defaultOrder": 41,
        "_isFastLaunch": false,
        "category": "Memory Optimized",
        "gpuNum": 0,
        "hideHardwareSpecs": false,
        "memoryGiB": 64,
        "name": "ml.r5.2xlarge",
        "vcpuNum": 8
      },
      {
        "_defaultOrder": 42,
        "_isFastLaunch": false,
        "category": "Memory Optimized",
        "gpuNum": 0,
        "hideHardwareSpecs": false,
        "memoryGiB": 128,
        "name": "ml.r5.4xlarge",
        "vcpuNum": 16
      },
      {
        "_defaultOrder": 43,
        "_isFastLaunch": false,
        "category": "Memory Optimized",
        "gpuNum": 0,
        "hideHardwareSpecs": false,
        "memoryGiB": 256,
        "name": "ml.r5.8xlarge",
        "vcpuNum": 32
      },
      {
        "_defaultOrder": 44,
        "_isFastLaunch": false,
        "category": "Memory Optimized",
        "gpuNum": 0,
        "hideHardwareSpecs": false,
        "memoryGiB": 384,
        "name": "ml.r5.12xlarge",
        "vcpuNum": 48
      },
      {
        "_defaultOrder": 45,
        "_isFastLaunch": false,
        "category": "Memory Optimized",
        "gpuNum": 0,
        "hideHardwareSpecs": false,
        "memoryGiB": 512,
        "name": "ml.r5.16xlarge",
        "vcpuNum": 64
      },
      {
        "_defaultOrder": 46,
        "_isFastLaunch": false,
        "category": "Memory Optimized",
        "gpuNum": 0,
        "hideHardwareSpecs": false,
        "memoryGiB": 768,
        "name": "ml.r5.24xlarge",
        "vcpuNum": 96
      },
      {
        "_defaultOrder": 47,
        "_isFastLaunch": false,
        "category": "Accelerated computing",
        "gpuNum": 1,
        "hideHardwareSpecs": false,
        "memoryGiB": 16,
        "name": "ml.g5.xlarge",
        "vcpuNum": 4
      },
      {
        "_defaultOrder": 48,
        "_isFastLaunch": false,
        "category": "Accelerated computing",
        "gpuNum": 1,
        "hideHardwareSpecs": false,
        "memoryGiB": 32,
        "name": "ml.g5.2xlarge",
        "vcpuNum": 8
      },
      {
        "_defaultOrder": 49,
        "_isFastLaunch": false,
        "category": "Accelerated computing",
        "gpuNum": 1,
        "hideHardwareSpecs": false,
        "memoryGiB": 64,
        "name": "ml.g5.4xlarge",
        "vcpuNum": 16
      },
      {
        "_defaultOrder": 50,
        "_isFastLaunch": false,
        "category": "Accelerated computing",
        "gpuNum": 1,
        "hideHardwareSpecs": false,
        "memoryGiB": 128,
        "name": "ml.g5.8xlarge",
        "vcpuNum": 32
      },
      {
        "_defaultOrder": 51,
        "_isFastLaunch": false,
        "category": "Accelerated computing",
        "gpuNum": 1,
        "hideHardwareSpecs": false,
        "memoryGiB": 256,
        "name": "ml.g5.16xlarge",
        "vcpuNum": 64
      },
      {
        "_defaultOrder": 52,
        "_isFastLaunch": false,
        "category": "Accelerated computing",
        "gpuNum": 4,
        "hideHardwareSpecs": false,
        "memoryGiB": 192,
        "name": "ml.g5.12xlarge",
        "vcpuNum": 48
      },
      {
        "_defaultOrder": 53,
        "_isFastLaunch": false,
        "category": "Accelerated computing",
        "gpuNum": 4,
        "hideHardwareSpecs": false,
        "memoryGiB": 384,
        "name": "ml.g5.24xlarge",
        "vcpuNum": 96
      },
      {
        "_defaultOrder": 54,
        "_isFastLaunch": false,
        "category": "Accelerated computing",
        "gpuNum": 8,
        "hideHardwareSpecs": false,
        "memoryGiB": 768,
        "name": "ml.g5.48xlarge",
        "vcpuNum": 192
      },
      {
        "_defaultOrder": 55,
        "_isFastLaunch": false,
        "category": "Accelerated computing",
        "gpuNum": 8,
        "hideHardwareSpecs": false,
        "memoryGiB": 1152,
        "name": "ml.p4d.24xlarge",
        "vcpuNum": 96
      },
      {
        "_defaultOrder": 56,
        "_isFastLaunch": false,
        "category": "Accelerated computing",
        "gpuNum": 8,
        "hideHardwareSpecs": false,
        "memoryGiB": 1152,
        "name": "ml.p4de.24xlarge",
        "vcpuNum": 96
      }
    ],
    "instance_type": "ml.t3.medium",
    "kernelspec": {
      "display_name": "Python 3 (Data Science)",
      "language": "python",
      "name": "python3__SAGEMAKER_INTERNAL__arn:aws:sagemaker:us-east-1:081325390199:image/datascience-1.0"
    },
    "language_info": {
      "codemirror_mode": {
        "name": "ipython",
        "version": 3
      },
      "file_extension": ".py",
      "mimetype": "text/x-python",
      "name": "python",
      "nbconvert_exporter": "python",
      "pygments_lexer": "ipython3",
      "version": "3.7.10"
    },
    "colab": {
      "provenance": []
    }
  },
  "nbformat": 4,
  "nbformat_minor": 0
}